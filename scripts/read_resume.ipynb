{
 "cells": [
  {
   "cell_type": "markdown",
   "id": "d97ce0ec",
   "metadata": {},
   "source": [
    "# Reading and Extracting Text from Resume PDF\n",
    "\n",
    "This notebook demonstrates how to safely read and extract text from a PDF file using Python libraries. We'll use the `pdfjs-dist` library that's already installed in the project."
   ]
  },
  {
   "cell_type": "code",
   "execution_count": 1,
   "id": "790df433",
   "metadata": {},
   "outputs": [
    {
     "name": "stdout",
     "output_type": "stream",
     "text": [
      "PyPDF2 version: 3.0.1\n"
     ]
    }
   ],
   "source": [
    "# Import required libraries\n",
    "import os\n",
    "import sys\n",
    "from pathlib import Path\n",
    "\n",
    "# Verify PyPDF2 is installed\n",
    "try:\n",
    "    import PyPDF2\n",
    "    print(\"PyPDF2 version:\", PyPDF2.__version__)\n",
    "except ImportError:\n",
    "    print(\"Installing PyPDF2...\")\n",
    "    !pip install PyPDF2\n",
    "    import PyPDF2\n",
    "    print(\"PyPDF2 installed successfully\")"
   ]
  },
  {
   "cell_type": "code",
   "execution_count": 3,
   "id": "d33ece6d",
   "metadata": {},
   "outputs": [
    {
     "name": "stdout",
     "output_type": "stream",
     "text": [
      "Found resume at: C:\\Users\\vinee\\OneDrive\\Desktop\\academics\\portfolio2\\project\\public\\Resume1.pdf\n"
     ]
    }
   ],
   "source": [
    "# Set up the file path and validate it exists\n",
    "script_dir = Path(__file__).parent if '__file__' in globals() else Path.cwd()\n",
    "project_root = script_dir.parent\n",
    "resume_path = (project_root / 'public' / 'Resume1.pdf').resolve()\n",
    "\n",
    "if not resume_path.exists():\n",
    "    raise FileNotFoundError(f\"Could not find PDF file at {resume_path}\")\n",
    "    \n",
    "print(f\"Found resume at: {resume_path}\")"
   ]
  },
  {
   "cell_type": "code",
   "execution_count": 4,
   "id": "5b8f11b6",
   "metadata": {},
   "outputs": [
    {
     "name": "stdout",
     "output_type": "stream",
     "text": [
      "Successfully extracted text from resume. Preview of first 500 characters:\n",
      "--------------------------------------------------------------------------------\n",
      "Vineet Agarwal\n",
      "240-353-9811 — vineet54@umd.edu — linkedin.com/in/vineet-agarwal-540abc/ — github.com/vineetagarwal54\n",
      "Summary —Software Engineer with 2+ years of experience developing scalable web and mobile applications across\n",
      "distributed systems. Proficient in Python, React Native, and AWS. Experienced in the full software development lifecycle\n",
      "(SDLC) including design, development, testing, and deployment. Passionate about building efficient, cloud-native solutions and\n",
      "solving complex challenge\n",
      "--------------------------------------------------------------------------------\n",
      "\n",
      "Full text:\n",
      "Vineet Agarwal\n",
      "240-353-9811 — vineet54@umd.edu — linkedin.com/in/vineet-agarwal-540abc/ — github.com/vineetagarwal54\n",
      "Summary —Software Engineer with 2+ years of experience developing scalable web and mobile applications across\n",
      "distributed systems. Proficient in Python, React Native, and AWS. Experienced in the full software development lifecycle\n",
      "(SDLC) including design, development, testing, and deployment. Passionate about building efficient, cloud-native solutions and\n",
      "solving complex challenges through innovation and data-driven engineering.\n",
      "Skills\n",
      "Languages Python, JavaScript, TypeScript, C++, C, SQL\n",
      "Frontend React.js, React Native, Next.js, Vue.js, HTML5,\n",
      "CSS3, Tailwind CSS\n",
      "Backend Node.js, Express.js, RESTful APIs, gRPC, WebRTC\n",
      "Databases MongoDB, PostgreSQL, Faiss, Pinecone, RedisDevOps AWS, Azure, GCP, Docker, CI/CD, Serverless\n",
      "AI/ML LangChain, OpenAI APIs, RAG, Hugging Face\n",
      "Core CS Data Structures & Algorithms, System Design, Soft-\n",
      "ware Architecture, Embedded Systems, OOP\n",
      "Tools Firebase, Git, Selenium, Redux Toolkit, Pytest\n",
      "Experience\n",
      "Svipes Jul 2024 – Dec 2024\n",
      "Full Stack Developer\n",
      "– Developed a cross-platform social media app with 50+ interactive screens using React Native and Redux Toolkit.\n",
      "– Enhanced performance by 30% through state optimization and asynchronous rendering strategies.\n",
      "– Implemented reusable UI components from Figma designs, improving code maintainability and scalability.\n",
      "Xelpmoc Design and Tech Limited Nov 2022 – Apr 2024\n",
      "Software Developer\n",
      "– Built 30+ responsive React Native screens for the GreenLight Credentials Wallet App (iOS & Android), integrating 15+\n",
      "blockchain webhooks.\n",
      "– Developed two mobile apps for an old-age home community supporting 50+ residents and 20+ staff, improving\n",
      "coordination and efficiency by 35%.\n",
      "– Architected a tourism services app using React/React Native, cutting bugs by 40% and boosting development speed by\n",
      "25%.\n",
      "– Engineered an interview management platform using WebRTC and sockets, scaling to 100+ concurrent video sessions\n",
      "with ¡200ms latency.\n",
      "– Optimized SQL queries and caching, reducing query latency by 86% (from 75s to ¡10s) and improving API throughput\n",
      "by 4x.\n",
      "– Practiced Agile methodology, participated in sprint planning, testing, and end-to-end delivery of production-ready\n",
      "features.\n",
      "IIIT Hyderabad Jun 2022 – Aug 2022\n",
      "Summer Internship\n",
      "– Automated multilingual data extraction using Python and Selenium to curate datasets for regional-language Wikipedia\n",
      "contributions.\n",
      "– Processed and cleaned 100+ articles, collaborating with researchers to enhance NLP-based emotion classification\n",
      "accuracy.\n",
      "Education\n",
      "University of Maryland, College Park\n",
      "Master of Engineering , Computer Software Engineering January 2025 - December 2026\n",
      "Minor in Cloud Engineering\n",
      "Relevant Coursework: Software Design, Cloud Computing, Virtualization, Cloud Security\n",
      "Projects\n",
      "AI Chatbot for Plywood Business Sept 2025 – Present\n",
      "– Built an internal assistant using LangChain, OpenAI, and FAISS to automate product info queries.\n",
      "– Managed data ingestion, embedding, vector store, and prompt design.\n",
      "Collaborative AI Whiteboard (CollabDrawAI) Jun 2025 – Present\n",
      "– Building a real-time collaborative drawing application with an infinite canvas and multi-user editing.\n",
      "– Implemented live presence, cursors, and stroke/shape broadcasting over WebSockets; batched events for smooth\n",
      "rendering and lower network overhead.\n",
      "– Tech: React, TypeScript, Canvas API, Node.js, WebSockets. Persistence and authentication under development\n"
     ]
    }
   ],
   "source": [
    "def extract_text_from_pdf(pdf_path):\n",
    "    try:\n",
    "        # Open the PDF file\n",
    "        with open(pdf_path, 'rb') as file:\n",
    "            # Create PDF reader object\n",
    "            pdf_reader = PyPDF2.PdfReader(file)\n",
    "            \n",
    "            # Extract text from each page\n",
    "            text = []\n",
    "            for page in pdf_reader.pages:\n",
    "                text.append(page.extract_text())\n",
    "                \n",
    "            return '\\n'.join(text)\n",
    "    except Exception as e:\n",
    "        print(f\"Error reading PDF: {e}\")\n",
    "        return None\n",
    "\n",
    "# Extract text from the resume\n",
    "resume_text = extract_text_from_pdf(resume_path)\n",
    "if resume_text:\n",
    "    print(\"Successfully extracted text from resume. Preview of first 500 characters:\")\n",
    "    print(\"-\" * 80)\n",
    "    print(resume_text[:500])\n",
    "    print(\"-\" * 80)\n",
    "    print(\"\\nFull text:\")\n",
    "    print(resume_text)\n",
    "else:\n",
    "    print(\"Failed to extract text from resume\")"
   ]
  }
 ],
 "metadata": {
  "kernelspec": {
   "display_name": "Python 3",
   "language": "python",
   "name": "python3"
  },
  "language_info": {
   "codemirror_mode": {
    "name": "ipython",
    "version": 3
   },
   "file_extension": ".py",
   "mimetype": "text/x-python",
   "name": "python",
   "nbconvert_exporter": "python",
   "pygments_lexer": "ipython3",
   "version": "3.12.4"
  }
 },
 "nbformat": 4,
 "nbformat_minor": 5
}
